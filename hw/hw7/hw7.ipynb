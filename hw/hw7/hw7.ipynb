{
 "cells": [
  {
   "cell_type": "markdown",
   "id": "e33c5b0c-d0f1-40c0-b794-3b3471ac73d2",
   "metadata": {},
   "source": [
    "# CPSC 330 - Applied Machine Learning \n",
    "\n",
    "## Homework 7: Clustering and recommender systems\n",
    "### Associated lectures: Lectures 14 and 15\n",
    "\n",
    "**Due date: Thursday, June 16, 2022 at 18:00**"
   ]
  },
  {
   "cell_type": "code",
   "execution_count": 1,
   "id": "a4651888-484b-42a0-95e1-d273e5069205",
   "metadata": {
    "slideshow": {
     "slide_type": "skip"
    }
   },
   "outputs": [],
   "source": [
    "import os\n",
    "\n",
    "%matplotlib inline\n",
    "import matplotlib.pyplot as plt\n",
    "import numpy as np\n",
    "import pandas as pd\n",
    "import seaborn as sns\n",
    "from nltk.tokenize import sent_tokenize, word_tokenize\n",
    "from sklearn.cluster import DBSCAN, KMeans\n",
    "from sklearn.feature_extraction.text import CountVectorizer\n",
    "\n",
    "pd.set_option(\"display.max_colwidth\", 0)"
   ]
  },
  {
   "cell_type": "markdown",
   "id": "086914c2-5de1-414a-8770-23bef9f312d0",
   "metadata": {},
   "source": [
    "<br><br><br><br>"
   ]
  },
  {
   "cell_type": "markdown",
   "id": "afe22cb5-f825-4dba-b5e3-3538f4afe703",
   "metadata": {},
   "source": [
    "## Instructions \n",
    "<hr>\n",
    "rubric={points:2}\n",
    "\n",
    "Follow the [homework submission instructions](https://github.com/UBC-CS/cpsc330-2022s/blob/master/docs/homework_instructions.md).\n",
    "\n",
    "**You may work with a partner on this homework and submit your assignment as a group.** Below are some instructions on working as a group.\n",
    "- The maximum group size is 2.\n",
    "- Use group work as an opportunity to collaborate and learn new things from each other. \n",
    "- Be respectful to each other and make sure you understand all the concepts in the assignment well. \n",
    "- It's your responsibility to make sure that the assignment is submitted by one of the group members before the deadline. \n",
    "- You can find the instructions on how to do group submission on Gradescope [here](https://help.gradescope.com/article/m5qz2xsnjy-student-add-group-members)."
   ]
  },
  {
   "cell_type": "markdown",
   "id": "69be5b2d-1854-4c63-bcc6-9b6258b7293a",
   "metadata": {},
   "source": [
    "<br><br><br><br>"
   ]
  },
  {
   "cell_type": "markdown",
   "id": "05d8d363-7c31-4381-8a1d-2b2556108916",
   "metadata": {},
   "source": [
    "## Exercise 1: Document clustering toy example <a name=\"1\"></a>\n",
    "<hr>\n",
    "\n",
    "In lecture 14, we looked at a popular application of clustering: customer segmentation. In this homework, we will work on another popular application, [**document clustering**](https://en.wikipedia.org/wiki/Document_clustering). A large amount of unlabeled text data is available out there (e.g., news, recipes, online Q&A), and clustering is a commonly used technique to organize this data in a meaningful way. \n",
    "\n",
    "In this exercise, we will create a toy dataset with sentences from Wikipedia articles and cluster these sentences. In the next exercise, we'll move to a real corpus.  "
   ]
  },
  {
   "cell_type": "markdown",
   "id": "3647bdc9-813a-4270-99cb-a9c88726a860",
   "metadata": {},
   "source": [
    "### 1.1 Sample sentences from Wikipedia articles\n",
    "rubric={points:2}\n",
    "\n",
    "The code below extracts first sentences of Wikipedia articles on a set of queries. You will need the `wikipedia` package installed in the course environment to run the code below. \n",
    "\n",
    "```\n",
    "conda install -n cpsc330 -c conda-forge wikipedia\n",
    "```\n",
    "\n",
    "You also need `nltk` library in the course environment.\n",
    "\n",
    "```\n",
    "conda install -n cpsc330 -c anaconda nltk \n",
    "```\n",
    "\n",
    "**Your tasks:**\n",
    "\n",
    "Run the code below and answer the following question. \n",
    "\n",
    "1. Given this dataset, how many clusters would you expect a clustering algorithm to identify? How would you manually label these clusters?   \n",
    "\n",
    "> *Note: Feel free to experiment with queries of your choice. But stick to the provided list for the final submission so that it's easier for the TAs when they grade your submission.*\n"
   ]
  },
  {
   "cell_type": "code",
   "execution_count": 2,
   "id": "9821392f-645f-48e5-98ce-b4f69707da10",
   "metadata": {},
   "outputs": [
    {
     "name": "stderr",
     "output_type": "stream",
     "text": [
      "[nltk_data] Downloading package punkt to\n",
      "[nltk_data]     C:\\Users\\Kenny\\AppData\\Roaming\\nltk_data...\n",
      "[nltk_data]   Package punkt is already up-to-date!\n"
     ]
    },
    {
     "data": {
      "text/plain": [
       "True"
      ]
     },
     "execution_count": 2,
     "metadata": {},
     "output_type": "execute_result"
    }
   ],
   "source": [
    "import nltk\n",
    "from nltk.tokenize import sent_tokenize, word_tokenize\n",
    "nltk.download(\"punkt\")"
   ]
  },
  {
   "cell_type": "code",
   "execution_count": 3,
   "id": "8c71b2eb-caf0-40f7-b7b0-93f1fadbc548",
   "metadata": {},
   "outputs": [
    {
     "data": {
      "text/html": [
       "<div>\n",
       "<style scoped>\n",
       "    .dataframe tbody tr th:only-of-type {\n",
       "        vertical-align: middle;\n",
       "    }\n",
       "\n",
       "    .dataframe tbody tr th {\n",
       "        vertical-align: top;\n",
       "    }\n",
       "\n",
       "    .dataframe thead th {\n",
       "        text-align: right;\n",
       "    }\n",
       "</style>\n",
       "<table border=\"1\" class=\"dataframe\">\n",
       "  <thead>\n",
       "    <tr style=\"text-align: right;\">\n",
       "      <th></th>\n",
       "      <th>wiki query</th>\n",
       "      <th>text</th>\n",
       "      <th>n_words</th>\n",
       "    </tr>\n",
       "  </thead>\n",
       "  <tbody>\n",
       "    <tr>\n",
       "      <th>0</th>\n",
       "      <td>Orange Tree</td>\n",
       "      <td>Citrus × sinensis (sometimes written Citrus sinensis), also known as the sweet oranges, is a commonly cultivated family of oranges that includes blood oranges and navel oranges.</td>\n",
       "      <td>32</td>\n",
       "    </tr>\n",
       "    <tr>\n",
       "      <th>1</th>\n",
       "      <td>Grapefruit Tree</td>\n",
       "      <td>The grapefruit (Citrus × paradisi) is a subtropical citrus tree known for its relatively large, sour to semi-sweet, somewhat bitter fruit.</td>\n",
       "      <td>26</td>\n",
       "    </tr>\n",
       "    <tr>\n",
       "      <th>2</th>\n",
       "      <td>Hexagon Shape</td>\n",
       "      <td>In geometry, a hexagon (from Greek ἕξ, hex, meaning \"six\", and γωνία, gonía, meaning \"corner, angle\") is a six-sided polygon or 6-gon.</td>\n",
       "      <td>36</td>\n",
       "    </tr>\n",
       "    <tr>\n",
       "      <th>3</th>\n",
       "      <td>English Language</td>\n",
       "      <td>English is a West Germanic language of the Indo-European language family, originally spoken by the inhabitants of early medieval England.</td>\n",
       "      <td>22</td>\n",
       "    </tr>\n",
       "    <tr>\n",
       "      <th>4</th>\n",
       "      <td>German Language</td>\n",
       "      <td>German (Deutsch, pronounced [dɔʏtʃ] (listen)) is a West Germanic language of the Indo-European language family, mainly spoken in Central Europe.</td>\n",
       "      <td>29</td>\n",
       "    </tr>\n",
       "    <tr>\n",
       "      <th>5</th>\n",
       "      <td>Planet Jupiter</td>\n",
       "      <td>Jupiter is the fifth planet from the Sun and the largest in the Solar System.</td>\n",
       "      <td>16</td>\n",
       "    </tr>\n",
       "    <tr>\n",
       "      <th>6</th>\n",
       "      <td>Planet Venus</td>\n",
       "      <td>Venus is the second planet from the Sun and is named after the Roman goddess of love and beauty.</td>\n",
       "      <td>20</td>\n",
       "    </tr>\n",
       "  </tbody>\n",
       "</table>\n",
       "</div>"
      ],
      "text/plain": [
       "         wiki query  \\\n",
       "0  Orange Tree        \n",
       "1  Grapefruit Tree    \n",
       "2  Hexagon Shape      \n",
       "3  English Language   \n",
       "4  German Language    \n",
       "5  Planet Jupiter     \n",
       "6  Planet Venus       \n",
       "\n",
       "                                                                                                                                                                                text  \\\n",
       "0  Citrus × sinensis (sometimes written Citrus sinensis), also known as the sweet oranges, is a commonly cultivated family of oranges that includes blood oranges and navel oranges.   \n",
       "1  The grapefruit (Citrus × paradisi) is a subtropical citrus tree known for its relatively large, sour to semi-sweet, somewhat bitter fruit.                                          \n",
       "2  In geometry, a hexagon (from Greek ἕξ, hex, meaning \"six\", and γωνία, gonía, meaning \"corner, angle\") is a six-sided polygon or 6-gon.                                              \n",
       "3  English is a West Germanic language of the Indo-European language family, originally spoken by the inhabitants of early medieval England.                                           \n",
       "4  German (Deutsch, pronounced [dɔʏtʃ] (listen)) is a West Germanic language of the Indo-European language family, mainly spoken in Central Europe.                                    \n",
       "5  Jupiter is the fifth planet from the Sun and the largest in the Solar System.                                                                                                       \n",
       "6  Venus is the second planet from the Sun and is named after the Roman goddess of love and beauty.                                                                                    \n",
       "\n",
       "   n_words  \n",
       "0  32       \n",
       "1  26       \n",
       "2  36       \n",
       "3  22       \n",
       "4  29       \n",
       "5  16       \n",
       "6  20       "
      ]
     },
     "execution_count": 3,
     "metadata": {},
     "output_type": "execute_result"
    }
   ],
   "source": [
    "import wikipedia\n",
    "\n",
    "queries = [\n",
    "    \"Orange Tree\",\n",
    "    \"Grapefruit Tree\",\n",
    "    \"Hexagon Shape\",\n",
    "    \"English Language\",\n",
    "    \"German Language\",\n",
    "    \"Planet Jupiter\",\n",
    "    \"Planet Venus\"\n",
    "]\n",
    "\n",
    "wiki_dict = {\"wiki query\": [], \"text\": [], \"n_words\": []}\n",
    "for i in range(len(queries)):\n",
    "    sent = sent_tokenize(wikipedia.page(queries[i]).content)[0]\n",
    "    wiki_dict[\"text\"].append(sent)\n",
    "    wiki_dict[\"n_words\"].append(len(word_tokenize(sent)))\n",
    "    wiki_dict[\"wiki query\"].append(queries[i])\n",
    "\n",
    "wiki_df = pd.DataFrame(wiki_dict)\n",
    "wiki_df"
   ]
  },
  {
   "cell_type": "markdown",
   "id": "1506b150-103f-4500-883c-1a85a903061e",
   "metadata": {},
   "source": [
    "**Answer:** 4 clusters: Trees, Shapes, Languages, and Planets. [0,0,1,2,2,3,3]"
   ]
  },
  {
   "cell_type": "markdown",
   "id": "b9f82cba-4642-4872-8b15-e49eab897821",
   "metadata": {},
   "source": [
    "<br><br>"
   ]
  },
  {
   "cell_type": "markdown",
   "id": "b7d98d85-83f3-43c4-aa60-4dc1085d680a",
   "metadata": {},
   "source": [
    "### 1.2 `KMeans` with bag-of-words representation \n",
    "rubric={points:4}\n",
    "\n",
    "We have seen that before we pass text to machine learning models, we need to encode it into a numeric representation. So let's encode our toy dataset above (`wiki_df`) to a numeric representation. \n",
    "\n",
    "First, let's try our good old friend: bag-of-words representation. The code below creates dense bag-of-words representation of Wikipedia sentences from 1.1 with [`CountVectorizer`](https://scikit-learn.org/stable/modules/generated/sklearn.feature_extraction.text.CountVectorizer.html). \n",
    "\n",
    "**Your tasks:**\n",
    "\n",
    "Run the code below and answer the following questions. \n",
    "\n",
    "1. Run `KMeans` clustering on the transformed data (`bow_sents`) with K = the number of clusters you identified in 1.1.  \n",
    "2. Examine clustering labels assigned by `KMeans`. Is `KMeans` doing a reasonable job in clustering the sentences? \n",
    "\n",
    "> You can access cluster label assignments using `labels_` attribute of the clustering object. "
   ]
  },
  {
   "cell_type": "code",
   "execution_count": 4,
   "id": "09628f3b-0608-441a-af31-6f8f33ef46d8",
   "metadata": {},
   "outputs": [
    {
     "data": {
      "text/html": [
       "<div>\n",
       "<style scoped>\n",
       "    .dataframe tbody tr th:only-of-type {\n",
       "        vertical-align: middle;\n",
       "    }\n",
       "\n",
       "    .dataframe tbody tr th {\n",
       "        vertical-align: top;\n",
       "    }\n",
       "\n",
       "    .dataframe thead th {\n",
       "        text-align: right;\n",
       "    }\n",
       "</style>\n",
       "<table border=\"1\" class=\"dataframe\">\n",
       "  <thead>\n",
       "    <tr style=\"text-align: right;\">\n",
       "      <th></th>\n",
       "      <th>angle</th>\n",
       "      <th>beauty</th>\n",
       "      <th>bitter</th>\n",
       "      <th>blood</th>\n",
       "      <th>central</th>\n",
       "      <th>citrus</th>\n",
       "      <th>commonly</th>\n",
       "      <th>corner</th>\n",
       "      <th>cultivated</th>\n",
       "      <th>deutsch</th>\n",
       "      <th>...</th>\n",
       "      <th>spoken</th>\n",
       "      <th>subtropical</th>\n",
       "      <th>sun</th>\n",
       "      <th>sweet</th>\n",
       "      <th>tree</th>\n",
       "      <th>venus</th>\n",
       "      <th>west</th>\n",
       "      <th>written</th>\n",
       "      <th>γωνία</th>\n",
       "      <th>ἕξ</th>\n",
       "    </tr>\n",
       "  </thead>\n",
       "  <tbody>\n",
       "    <tr>\n",
       "      <th>0</th>\n",
       "      <td>0</td>\n",
       "      <td>0</td>\n",
       "      <td>0</td>\n",
       "      <td>1</td>\n",
       "      <td>0</td>\n",
       "      <td>2</td>\n",
       "      <td>1</td>\n",
       "      <td>0</td>\n",
       "      <td>1</td>\n",
       "      <td>0</td>\n",
       "      <td>...</td>\n",
       "      <td>0</td>\n",
       "      <td>0</td>\n",
       "      <td>0</td>\n",
       "      <td>1</td>\n",
       "      <td>0</td>\n",
       "      <td>0</td>\n",
       "      <td>0</td>\n",
       "      <td>1</td>\n",
       "      <td>0</td>\n",
       "      <td>0</td>\n",
       "    </tr>\n",
       "    <tr>\n",
       "      <th>1</th>\n",
       "      <td>0</td>\n",
       "      <td>0</td>\n",
       "      <td>1</td>\n",
       "      <td>0</td>\n",
       "      <td>0</td>\n",
       "      <td>2</td>\n",
       "      <td>0</td>\n",
       "      <td>0</td>\n",
       "      <td>0</td>\n",
       "      <td>0</td>\n",
       "      <td>...</td>\n",
       "      <td>0</td>\n",
       "      <td>1</td>\n",
       "      <td>0</td>\n",
       "      <td>1</td>\n",
       "      <td>1</td>\n",
       "      <td>0</td>\n",
       "      <td>0</td>\n",
       "      <td>0</td>\n",
       "      <td>0</td>\n",
       "      <td>0</td>\n",
       "    </tr>\n",
       "    <tr>\n",
       "      <th>2</th>\n",
       "      <td>1</td>\n",
       "      <td>0</td>\n",
       "      <td>0</td>\n",
       "      <td>0</td>\n",
       "      <td>0</td>\n",
       "      <td>0</td>\n",
       "      <td>0</td>\n",
       "      <td>1</td>\n",
       "      <td>0</td>\n",
       "      <td>0</td>\n",
       "      <td>...</td>\n",
       "      <td>0</td>\n",
       "      <td>0</td>\n",
       "      <td>0</td>\n",
       "      <td>0</td>\n",
       "      <td>0</td>\n",
       "      <td>0</td>\n",
       "      <td>0</td>\n",
       "      <td>0</td>\n",
       "      <td>1</td>\n",
       "      <td>1</td>\n",
       "    </tr>\n",
       "    <tr>\n",
       "      <th>3</th>\n",
       "      <td>0</td>\n",
       "      <td>0</td>\n",
       "      <td>0</td>\n",
       "      <td>0</td>\n",
       "      <td>0</td>\n",
       "      <td>0</td>\n",
       "      <td>0</td>\n",
       "      <td>0</td>\n",
       "      <td>0</td>\n",
       "      <td>0</td>\n",
       "      <td>...</td>\n",
       "      <td>1</td>\n",
       "      <td>0</td>\n",
       "      <td>0</td>\n",
       "      <td>0</td>\n",
       "      <td>0</td>\n",
       "      <td>0</td>\n",
       "      <td>1</td>\n",
       "      <td>0</td>\n",
       "      <td>0</td>\n",
       "      <td>0</td>\n",
       "    </tr>\n",
       "    <tr>\n",
       "      <th>4</th>\n",
       "      <td>0</td>\n",
       "      <td>0</td>\n",
       "      <td>0</td>\n",
       "      <td>0</td>\n",
       "      <td>1</td>\n",
       "      <td>0</td>\n",
       "      <td>0</td>\n",
       "      <td>0</td>\n",
       "      <td>0</td>\n",
       "      <td>1</td>\n",
       "      <td>...</td>\n",
       "      <td>1</td>\n",
       "      <td>0</td>\n",
       "      <td>0</td>\n",
       "      <td>0</td>\n",
       "      <td>0</td>\n",
       "      <td>0</td>\n",
       "      <td>1</td>\n",
       "      <td>0</td>\n",
       "      <td>0</td>\n",
       "      <td>0</td>\n",
       "    </tr>\n",
       "    <tr>\n",
       "      <th>5</th>\n",
       "      <td>0</td>\n",
       "      <td>0</td>\n",
       "      <td>0</td>\n",
       "      <td>0</td>\n",
       "      <td>0</td>\n",
       "      <td>0</td>\n",
       "      <td>0</td>\n",
       "      <td>0</td>\n",
       "      <td>0</td>\n",
       "      <td>0</td>\n",
       "      <td>...</td>\n",
       "      <td>0</td>\n",
       "      <td>0</td>\n",
       "      <td>1</td>\n",
       "      <td>0</td>\n",
       "      <td>0</td>\n",
       "      <td>0</td>\n",
       "      <td>0</td>\n",
       "      <td>0</td>\n",
       "      <td>0</td>\n",
       "      <td>0</td>\n",
       "    </tr>\n",
       "    <tr>\n",
       "      <th>6</th>\n",
       "      <td>0</td>\n",
       "      <td>1</td>\n",
       "      <td>0</td>\n",
       "      <td>0</td>\n",
       "      <td>0</td>\n",
       "      <td>0</td>\n",
       "      <td>0</td>\n",
       "      <td>0</td>\n",
       "      <td>0</td>\n",
       "      <td>0</td>\n",
       "      <td>...</td>\n",
       "      <td>0</td>\n",
       "      <td>0</td>\n",
       "      <td>1</td>\n",
       "      <td>0</td>\n",
       "      <td>0</td>\n",
       "      <td>1</td>\n",
       "      <td>0</td>\n",
       "      <td>0</td>\n",
       "      <td>0</td>\n",
       "      <td>0</td>\n",
       "    </tr>\n",
       "  </tbody>\n",
       "</table>\n",
       "<p>7 rows × 69 columns</p>\n",
       "</div>"
      ],
      "text/plain": [
       "   angle  beauty  bitter  blood  central  citrus  commonly  corner  \\\n",
       "0  0      0       0       1      0        2       1         0        \n",
       "1  0      0       1       0      0        2       0         0        \n",
       "2  1      0       0       0      0        0       0         1        \n",
       "3  0      0       0       0      0        0       0         0        \n",
       "4  0      0       0       0      1        0       0         0        \n",
       "5  0      0       0       0      0        0       0         0        \n",
       "6  0      1       0       0      0        0       0         0        \n",
       "\n",
       "   cultivated  deutsch  ...  spoken  subtropical  sun  sweet  tree  venus  \\\n",
       "0  1           0        ...  0       0            0    1      0     0       \n",
       "1  0           0        ...  0       1            0    1      1     0       \n",
       "2  0           0        ...  0       0            0    0      0     0       \n",
       "3  0           0        ...  1       0            0    0      0     0       \n",
       "4  0           1        ...  1       0            0    0      0     0       \n",
       "5  0           0        ...  0       0            1    0      0     0       \n",
       "6  0           0        ...  0       0            1    0      0     1       \n",
       "\n",
       "   west  written  γωνία  ἕξ  \n",
       "0  0     1        0      0   \n",
       "1  0     0        0      0   \n",
       "2  0     0        1      1   \n",
       "3  1     0        0      0   \n",
       "4  1     0        0      0   \n",
       "5  0     0        0      0   \n",
       "6  0     0        0      0   \n",
       "\n",
       "[7 rows x 69 columns]"
      ]
     },
     "execution_count": 4,
     "metadata": {},
     "output_type": "execute_result"
    }
   ],
   "source": [
    "vec = CountVectorizer(stop_words='english')\n",
    "bow_sents = vec.fit_transform(wiki_df[\"text\"]).toarray()\n",
    "bow_df = pd.DataFrame(\n",
    "    data=bow_sents, columns=vec.get_feature_names_out(), index=wiki_df.index\n",
    ")\n",
    "bow_df"
   ]
  },
  {
   "cell_type": "code",
   "execution_count": 5,
   "id": "f749e67f-2d69-4af7-8266-b856a1a54d91",
   "metadata": {},
   "outputs": [
    {
     "data": {
      "text/plain": [
       "array([2, 3, 0, 1, 1, 0, 0])"
      ]
     },
     "execution_count": 5,
     "metadata": {},
     "output_type": "execute_result"
    }
   ],
   "source": [
    "kmeans = KMeans(n_clusters=4)\n",
    "kmeans.fit(bow_df)\n",
    "kmeans.labels_"
   ]
  },
  {
   "cell_type": "markdown",
   "id": "a5e9174d-c281-4bcd-bd8f-8f1cb81e4bd9",
   "metadata": {},
   "source": [
    "The model fails to do a reasonable job, and to cluster Trees together, and Hexagon Shape into its own cluster. That is 4 correct assignments out of 7."
   ]
  },
  {
   "cell_type": "markdown",
   "id": "02261e6d-8195-4248-9c21-5bc520baa89e",
   "metadata": {},
   "source": [
    "<br><br>"
   ]
  },
  {
   "cell_type": "markdown",
   "id": "0bd1b8be-2c87-48ca-a4a6-2a91f74b8bf2",
   "metadata": {},
   "source": [
    "### 1.3 Sentence embedding representation\n",
    "rubric={points:6}\n",
    "\n",
    "Clustering is sensitive to what kind of representation we use for the given data. \n",
    "Bag-of-words representation is limited in that it does not take into account word ordering and context. There are other richer representations of text, and we are going to use one such representation in this exercise. \n",
    "\n",
    "The code below creates an alternative and a more expressive representation of sentences. We will call it *sentence embedding representation*. We'll use [sentence transformer](https://www.sbert.net/index.html) to extract these representations. At this point it's enough to know that this is an alternative representation of text which usually works better than simple bag-of-words representation. We will talk a bit more about embedding representations next week. You need to install `sentence-transformers` in the course conda environment to run the code below. \n",
    "\n",
    "`conda install -n cpsc330 -c conda-forge sentence-transformers`\n",
    "\n",
    "**Your tasks:**\n",
    "\n",
    "Run the code below and answer the following questions. \n",
    "\n",
    "1. How many dimensions (features associated with each example) are present in this representation? \n",
    "2. Run `KMeans` clustering with sentence embedding representation of text (`emb_sents`) and examine cluster labels. \n",
    "3. How well the sentences are clustered together? "
   ]
  },
  {
   "cell_type": "code",
   "execution_count": 6,
   "id": "0a092544-58d7-418d-84ff-2e898ece2c2f",
   "metadata": {},
   "outputs": [],
   "source": [
    "from sentence_transformers import SentenceTransformer\n",
    "\n",
    "embedder = SentenceTransformer(\"paraphrase-distilroberta-base-v1\")"
   ]
  },
  {
   "cell_type": "code",
   "execution_count": 7,
   "id": "20174ee5-9122-4c10-b112-4a675653fee8",
   "metadata": {},
   "outputs": [
    {
     "data": {
      "text/html": [
       "<div>\n",
       "<style scoped>\n",
       "    .dataframe tbody tr th:only-of-type {\n",
       "        vertical-align: middle;\n",
       "    }\n",
       "\n",
       "    .dataframe tbody tr th {\n",
       "        vertical-align: top;\n",
       "    }\n",
       "\n",
       "    .dataframe thead th {\n",
       "        text-align: right;\n",
       "    }\n",
       "</style>\n",
       "<table border=\"1\" class=\"dataframe\">\n",
       "  <thead>\n",
       "    <tr style=\"text-align: right;\">\n",
       "      <th></th>\n",
       "      <th>0</th>\n",
       "      <th>1</th>\n",
       "      <th>2</th>\n",
       "      <th>3</th>\n",
       "      <th>4</th>\n",
       "      <th>5</th>\n",
       "      <th>6</th>\n",
       "      <th>7</th>\n",
       "      <th>8</th>\n",
       "      <th>9</th>\n",
       "      <th>...</th>\n",
       "      <th>758</th>\n",
       "      <th>759</th>\n",
       "      <th>760</th>\n",
       "      <th>761</th>\n",
       "      <th>762</th>\n",
       "      <th>763</th>\n",
       "      <th>764</th>\n",
       "      <th>765</th>\n",
       "      <th>766</th>\n",
       "      <th>767</th>\n",
       "    </tr>\n",
       "  </thead>\n",
       "  <tbody>\n",
       "    <tr>\n",
       "      <th>0</th>\n",
       "      <td>-0.169783</td>\n",
       "      <td>0.328721</td>\n",
       "      <td>0.349129</td>\n",
       "      <td>0.160305</td>\n",
       "      <td>-0.001064</td>\n",
       "      <td>-0.042220</td>\n",
       "      <td>0.046996</td>\n",
       "      <td>0.344551</td>\n",
       "      <td>-0.096110</td>\n",
       "      <td>0.152743</td>\n",
       "      <td>...</td>\n",
       "      <td>-0.094106</td>\n",
       "      <td>0.167671</td>\n",
       "      <td>0.087162</td>\n",
       "      <td>0.102412</td>\n",
       "      <td>0.103286</td>\n",
       "      <td>0.154069</td>\n",
       "      <td>-0.714122</td>\n",
       "      <td>0.529451</td>\n",
       "      <td>-0.081597</td>\n",
       "      <td>-0.048938</td>\n",
       "    </tr>\n",
       "    <tr>\n",
       "      <th>1</th>\n",
       "      <td>-0.246986</td>\n",
       "      <td>0.277209</td>\n",
       "      <td>0.370583</td>\n",
       "      <td>0.099333</td>\n",
       "      <td>-0.366400</td>\n",
       "      <td>0.168400</td>\n",
       "      <td>0.050352</td>\n",
       "      <td>0.403483</td>\n",
       "      <td>-0.127596</td>\n",
       "      <td>0.240492</td>\n",
       "      <td>...</td>\n",
       "      <td>0.015463</td>\n",
       "      <td>-0.115215</td>\n",
       "      <td>0.469176</td>\n",
       "      <td>0.050542</td>\n",
       "      <td>0.079377</td>\n",
       "      <td>0.094788</td>\n",
       "      <td>0.277293</td>\n",
       "      <td>0.399704</td>\n",
       "      <td>0.103588</td>\n",
       "      <td>0.113049</td>\n",
       "    </tr>\n",
       "    <tr>\n",
       "      <th>2</th>\n",
       "      <td>0.245753</td>\n",
       "      <td>0.292599</td>\n",
       "      <td>-0.055407</td>\n",
       "      <td>0.269905</td>\n",
       "      <td>-0.148924</td>\n",
       "      <td>0.058780</td>\n",
       "      <td>0.037858</td>\n",
       "      <td>0.228930</td>\n",
       "      <td>0.197867</td>\n",
       "      <td>0.406216</td>\n",
       "      <td>...</td>\n",
       "      <td>0.219569</td>\n",
       "      <td>-0.411549</td>\n",
       "      <td>0.049737</td>\n",
       "      <td>0.020908</td>\n",
       "      <td>-0.085819</td>\n",
       "      <td>0.009362</td>\n",
       "      <td>-0.614289</td>\n",
       "      <td>0.260229</td>\n",
       "      <td>0.796774</td>\n",
       "      <td>-0.098542</td>\n",
       "    </tr>\n",
       "    <tr>\n",
       "      <th>3</th>\n",
       "      <td>-0.043948</td>\n",
       "      <td>0.300680</td>\n",
       "      <td>0.027356</td>\n",
       "      <td>0.522667</td>\n",
       "      <td>0.220696</td>\n",
       "      <td>0.083797</td>\n",
       "      <td>-0.030243</td>\n",
       "      <td>0.330986</td>\n",
       "      <td>0.268973</td>\n",
       "      <td>0.128816</td>\n",
       "      <td>...</td>\n",
       "      <td>0.284563</td>\n",
       "      <td>-0.215861</td>\n",
       "      <td>-0.218333</td>\n",
       "      <td>0.225387</td>\n",
       "      <td>0.346727</td>\n",
       "      <td>0.372262</td>\n",
       "      <td>0.022652</td>\n",
       "      <td>0.249070</td>\n",
       "      <td>-0.032098</td>\n",
       "      <td>0.186563</td>\n",
       "    </tr>\n",
       "    <tr>\n",
       "      <th>4</th>\n",
       "      <td>-0.152196</td>\n",
       "      <td>0.336464</td>\n",
       "      <td>-0.008689</td>\n",
       "      <td>0.666325</td>\n",
       "      <td>0.257241</td>\n",
       "      <td>0.056739</td>\n",
       "      <td>0.087526</td>\n",
       "      <td>0.288248</td>\n",
       "      <td>0.229120</td>\n",
       "      <td>0.134044</td>\n",
       "      <td>...</td>\n",
       "      <td>0.661957</td>\n",
       "      <td>0.099084</td>\n",
       "      <td>0.201528</td>\n",
       "      <td>0.048990</td>\n",
       "      <td>0.381907</td>\n",
       "      <td>0.439366</td>\n",
       "      <td>0.009868</td>\n",
       "      <td>-0.068023</td>\n",
       "      <td>0.136935</td>\n",
       "      <td>0.291595</td>\n",
       "    </tr>\n",
       "    <tr>\n",
       "      <th>5</th>\n",
       "      <td>-0.124168</td>\n",
       "      <td>0.215485</td>\n",
       "      <td>0.013106</td>\n",
       "      <td>0.143410</td>\n",
       "      <td>-0.636150</td>\n",
       "      <td>0.189037</td>\n",
       "      <td>0.114603</td>\n",
       "      <td>0.075671</td>\n",
       "      <td>0.000973</td>\n",
       "      <td>-0.188109</td>\n",
       "      <td>...</td>\n",
       "      <td>-0.520293</td>\n",
       "      <td>-0.052253</td>\n",
       "      <td>0.358862</td>\n",
       "      <td>0.229729</td>\n",
       "      <td>0.129429</td>\n",
       "      <td>0.416512</td>\n",
       "      <td>-0.039958</td>\n",
       "      <td>0.330362</td>\n",
       "      <td>-0.018109</td>\n",
       "      <td>0.152335</td>\n",
       "    </tr>\n",
       "    <tr>\n",
       "      <th>6</th>\n",
       "      <td>0.071988</td>\n",
       "      <td>0.221728</td>\n",
       "      <td>0.100429</td>\n",
       "      <td>0.005926</td>\n",
       "      <td>-0.170285</td>\n",
       "      <td>-0.222389</td>\n",
       "      <td>0.293238</td>\n",
       "      <td>0.210783</td>\n",
       "      <td>0.178689</td>\n",
       "      <td>0.293481</td>\n",
       "      <td>...</td>\n",
       "      <td>-0.117664</td>\n",
       "      <td>-0.079962</td>\n",
       "      <td>0.315055</td>\n",
       "      <td>0.144472</td>\n",
       "      <td>0.180411</td>\n",
       "      <td>0.390726</td>\n",
       "      <td>0.426489</td>\n",
       "      <td>0.154363</td>\n",
       "      <td>0.143687</td>\n",
       "      <td>-0.082053</td>\n",
       "    </tr>\n",
       "  </tbody>\n",
       "</table>\n",
       "<p>7 rows × 768 columns</p>\n",
       "</div>"
      ],
      "text/plain": [
       "          0         1         2         3         4         5         6  \\\n",
       "0 -0.169783  0.328721  0.349129  0.160305 -0.001064 -0.042220  0.046996   \n",
       "1 -0.246986  0.277209  0.370583  0.099333 -0.366400  0.168400  0.050352   \n",
       "2  0.245753  0.292599 -0.055407  0.269905 -0.148924  0.058780  0.037858   \n",
       "3 -0.043948  0.300680  0.027356  0.522667  0.220696  0.083797 -0.030243   \n",
       "4 -0.152196  0.336464 -0.008689  0.666325  0.257241  0.056739  0.087526   \n",
       "5 -0.124168  0.215485  0.013106  0.143410 -0.636150  0.189037  0.114603   \n",
       "6  0.071988  0.221728  0.100429  0.005926 -0.170285 -0.222389  0.293238   \n",
       "\n",
       "          7         8         9  ...       758       759       760       761  \\\n",
       "0  0.344551 -0.096110  0.152743  ... -0.094106  0.167671  0.087162  0.102412   \n",
       "1  0.403483 -0.127596  0.240492  ...  0.015463 -0.115215  0.469176  0.050542   \n",
       "2  0.228930  0.197867  0.406216  ...  0.219569 -0.411549  0.049737  0.020908   \n",
       "3  0.330986  0.268973  0.128816  ...  0.284563 -0.215861 -0.218333  0.225387   \n",
       "4  0.288248  0.229120  0.134044  ...  0.661957  0.099084  0.201528  0.048990   \n",
       "5  0.075671  0.000973 -0.188109  ... -0.520293 -0.052253  0.358862  0.229729   \n",
       "6  0.210783  0.178689  0.293481  ... -0.117664 -0.079962  0.315055  0.144472   \n",
       "\n",
       "        762       763       764       765       766       767  \n",
       "0  0.103286  0.154069 -0.714122  0.529451 -0.081597 -0.048938  \n",
       "1  0.079377  0.094788  0.277293  0.399704  0.103588  0.113049  \n",
       "2 -0.085819  0.009362 -0.614289  0.260229  0.796774 -0.098542  \n",
       "3  0.346727  0.372262  0.022652  0.249070 -0.032098  0.186563  \n",
       "4  0.381907  0.439366  0.009868 -0.068023  0.136935  0.291595  \n",
       "5  0.129429  0.416512 -0.039958  0.330362 -0.018109  0.152335  \n",
       "6  0.180411  0.390726  0.426489  0.154363  0.143687 -0.082053  \n",
       "\n",
       "[7 rows x 768 columns]"
      ]
     },
     "execution_count": 7,
     "metadata": {},
     "output_type": "execute_result"
    }
   ],
   "source": [
    "emb_sents = embedder.encode(wiki_df[\"text\"])\n",
    "emb_sent_df = pd.DataFrame(emb_sents, index=wiki_df.index)\n",
    "emb_sent_df"
   ]
  },
  {
   "cell_type": "code",
   "execution_count": 8,
   "id": "82f7f82f-aac4-4772-9caf-d4f8cc77c22e",
   "metadata": {},
   "outputs": [
    {
     "data": {
      "text/plain": [
       "(7, 768)"
      ]
     },
     "execution_count": 8,
     "metadata": {},
     "output_type": "execute_result"
    }
   ],
   "source": [
    "emb_sent_df.shape"
   ]
  },
  {
   "cell_type": "markdown",
   "id": "fe69f2a3-8c0a-4e4d-b049-9709a4aa731e",
   "metadata": {},
   "source": [
    "\\# of dimensions: **768 features**"
   ]
  },
  {
   "cell_type": "code",
   "execution_count": 9,
   "id": "ef5b33e5-5c59-4ce5-aa2f-f0919d344798",
   "metadata": {},
   "outputs": [
    {
     "data": {
      "text/plain": [
       "array([1, 1, 3, 0, 0, 2, 2])"
      ]
     },
     "execution_count": 9,
     "metadata": {},
     "output_type": "execute_result"
    }
   ],
   "source": [
    "kmeans_emb = KMeans(n_clusters=4)\n",
    "kmeans_emb.fit(emb_sent_df)\n",
    "kmeans_emb.labels_"
   ]
  },
  {
   "cell_type": "markdown",
   "id": "ed425c14-0681-427e-8129-71d564e2c25c",
   "metadata": {},
   "source": [
    "**ANSWER:** They are all correctly clustered."
   ]
  },
  {
   "cell_type": "markdown",
   "id": "50a67c7a-83a4-473a-b710-f31c01f4b6fc",
   "metadata": {},
   "source": [
    "<br><br>"
   ]
  },
  {
   "cell_type": "markdown",
   "id": "7f31e3bb-203e-4877-a54c-eb4f54e0e303",
   "metadata": {},
   "source": [
    "### 1.4 DBSCAN with cosine distance  \n",
    "rubric={points:8}\n",
    "\n",
    "Let's try `DBSCAN` on our toy dataset. K-Means is kind of bound to the Euclidean distance because it is based on the notion of means. With `DBSCAN` we can try different distance metrics. In the context of text (sparse data), [cosine similarities](https://scikit-learn.org/stable/modules/metrics.html#cosine-similarity) or cosine distances tend to work better. Given vectors $u$ and $v$, the **cosine distance** between the vectors is defined as: \n",
    "\n",
    "$$distance_{cosine}(u,v) = 1 - (\\frac{u \\cdot v}{\\left\\lVert u\\right\\rVert_2 \\left\\lVert v\\right\\rVert_2})$$\n",
    "\n",
    "In this exercise, you'll use DBSCAN with cosine distances. \n",
    "\n",
    "**Your tasks**\n",
    "\n",
    "1. Use DBSCAN to cluster our toy data using sentence embedding representation (`emb_sents`) and `metric='cosine'`. \n",
    "2. Briefly comment on the number of clusters identified and the cluster assignment given by the algorithm.\n",
    "\n",
    "> *Note: You will also have to set appropriate values for the hyperparamters `eps` and `min_samples` to get meaningful clusters, as default values for these hyperparameters won't work on this toy dataset. In order to set appropriate value for `eps`, you may want to examine the distances given by [sklearn's `cosine_distance`](https://scikit-learn.org/stable/modules/generated/sklearn.metrics.pairwise.cosine_distances.html).*"
   ]
  },
  {
   "cell_type": "code",
   "execution_count": 10,
   "id": "63eb890d-3990-4eed-87e4-ec9fe92701c8",
   "metadata": {},
   "outputs": [
    {
     "data": {
      "text/plain": [
       "array([[0.        , 0.3729108 , 0.7881421 , 0.89392823, 0.9550262 ,\n",
       "        0.8809816 , 0.7247288 ],\n",
       "       [0.3729108 , 0.        , 0.7906049 , 0.91690356, 0.8622285 ,\n",
       "        0.7258481 , 0.70049095],\n",
       "       [0.7881421 , 0.7906049 , 0.        , 0.7798686 , 0.85069436,\n",
       "        0.8065598 , 0.73926353],\n",
       "       [0.89392823, 0.91690356, 0.7798686 , 0.        , 0.34440237,\n",
       "        0.84815186, 0.7445886 ],\n",
       "       [0.9550262 , 0.8622285 , 0.85069436, 0.34440237, 0.        ,\n",
       "        0.9108201 , 0.82859856],\n",
       "       [0.8809816 , 0.7258481 , 0.8065598 , 0.84815186, 0.9108201 ,\n",
       "        0.        , 0.4130866 ],\n",
       "       [0.7247288 , 0.70049095, 0.73926353, 0.7445886 , 0.82859856,\n",
       "        0.4130866 , 0.        ]], dtype=float32)"
      ]
     },
     "execution_count": 10,
     "metadata": {},
     "output_type": "execute_result"
    }
   ],
   "source": [
    "from sklearn.metrics.pairwise import cosine_distances\n",
    "\n",
    "cosine_distances(emb_sents)"
   ]
  },
  {
   "cell_type": "code",
   "execution_count": 11,
   "id": "278bb17e-636e-4f1d-8a17-070b3f5d9a17",
   "metadata": {},
   "outputs": [
    {
     "data": {
      "text/plain": [
       "array([0, 0, 1, 2, 2, 3, 3], dtype=int64)"
      ]
     },
     "execution_count": 11,
     "metadata": {},
     "output_type": "execute_result"
    }
   ],
   "source": [
    "dbscan = DBSCAN(metric='cosine', min_samples=1, eps=0.5)\n",
    "dbscan.fit(emb_sents)\n",
    "dbscan.labels_"
   ]
  },
  {
   "cell_type": "markdown",
   "id": "97bf9ec1-010c-4a59-bd5a-2d9e9e6aced5",
   "metadata": {},
   "source": [
    "**4 clusters. And the clustering is all correct.**"
   ]
  },
  {
   "cell_type": "markdown",
   "id": "9f359f90-e90c-4311-adb2-39b6f9a3433c",
   "metadata": {},
   "source": [
    "<br><br>"
   ]
  },
  {
   "cell_type": "markdown",
   "id": "7a30b339-3799-4d4c-b9d5-c0c048243c1f",
   "metadata": {},
   "source": [
    "### 1.5 Visualizing clusters \n",
    "rubric={points:5}\n",
    "\n",
    "One thing we could do with unlabeled data is visualizing it. That said, our data is high dimensional (each example is represented with 768 dimensions) and high-dimensional data is hard to visualize. One way to visualize high-dimensional data is applying dimensionality reduction to get the most important (2 or 3) components of the dataset and visualizing this low-dimensional data. \n",
    "\n",
    "Given data as a `numpy` array and cluster assignments, the `plot_pca_clusters` function below transforms the given data by applying dimensionality reduction and plots the transformed data into corresponding clusters. \n",
    "\n",
    "> *Note: At this point we are using this function only for visualization and you are not expected to understand the PCA part. Feel free to modify the function as you see fit.*\n",
    "\n",
    "**Your tasks:**\n",
    "\n",
    "1. Call the function `plot_pca_clusters` to visualize the clusters created by the three models above:\n",
    "    - KMeans with bag-of-words representation \n",
    "    - KMeans with sentence embedding representation. \n",
    "    - DBSCAN with sentence embedding representation. "
   ]
  },
  {
   "cell_type": "code",
   "execution_count": 12,
   "id": "5531c582-11c4-4691-8110-4ccc7342fdda",
   "metadata": {},
   "outputs": [],
   "source": [
    "from sklearn.decomposition import PCA # Obtain the principal components\n",
    "\n",
    "def plot_pca_clusters(\n",
    "    data,\n",
    "    cluster_labels,\n",
    "    raw_sents=wiki_df[\"text\"],\n",
    "    show_labels=False,\n",
    "    size=100,\n",
    "    title=\"PCA visualization\",\n",
    "):\n",
    "    \"\"\"\n",
    "    Carry out dimensionality reduction using PCA and plot 2-dimensional clusters.\n",
    "\n",
    "    Parameters\n",
    "    -----------\n",
    "    data : numpy array\n",
    "        data as a numpy array\n",
    "    cluster_labels : list\n",
    "        cluster labels for each row in the dataset\n",
    "    raw_sents : list\n",
    "        the original raw sentences for labeling datapoints\n",
    "    show_labels : boolean\n",
    "        whether you want to show labels for points or not (default: False)\n",
    "    size : int\n",
    "        size of points in the scatterplot\n",
    "    title : str\n",
    "        title for the visualization plot\n",
    "\n",
    "    Returns\n",
    "    -----------\n",
    "    None. Shows the clusters.\n",
    "    \"\"\"\n",
    "\n",
    "    pca = PCA(n_components=2)\n",
    "    principal_comp = pca.fit_transform(data)\n",
    "    pca_df = pd.DataFrame(data=principal_comp, columns=[\"pca1\", \"pca2\"])\n",
    "    pca_df[\"cluster\"] = cluster_labels\n",
    "\n",
    "    plt.figure(figsize=(10, 7))\n",
    "    plt.title(title)\n",
    "    ax = sns.scatterplot(\n",
    "        x=\"pca1\", y=\"pca2\", hue=\"cluster\", data=pca_df, palette=\"tab10\", s=size\n",
    "    )\n",
    "\n",
    "    x = pca_df[\"pca1\"].tolist()\n",
    "    y = pca_df[\"pca2\"].tolist()\n",
    "    if show_labels:\n",
    "        for i, txt in enumerate(raw_sents):\n",
    "            plt.annotate(\" \".join(txt.split()[:10]), (x[i], y[i]))\n",
    "        ax.legend(loc=\"upper right\")\n",
    "\n",
    "    plt.show()"
   ]
  },
  {
   "cell_type": "code",
   "execution_count": 13,
   "id": "c8630b1c-d32f-43f1-b23d-b4b3555473b8",
   "metadata": {},
   "outputs": [
    {
     "data": {
      "image/png": "[encoded data removed]",
      "text/plain": [
       "<Figure size 720x504 with 1 Axes>"
      ]
     },
     "metadata": {
      "needs_background": "light"
     },
     "output_type": "display_data"
    }
   ],
   "source": [
    "plot_pca_clusters(bow_df, kmeans.labels_, title=\"KMeans with bag-of-words representation\")"
   ]
  },
  {
   "cell_type": "code",
   "execution_count": 14,
   "id": "b7833439-c1bf-43cc-8719-42fa32842e60",
   "metadata": {},
   "outputs": [
    {
     "data": {
      "image/png": "[encoded data removed]",
      "text/plain": [
       "<Figure size 720x504 with 1 Axes>"
      ]
     },
     "metadata": {
      "needs_background": "light"
     },
     "output_type": "display_data"
    }
   ],
   "source": [
    "plot_pca_clusters(emb_sent_df, kmeans_emb.labels_, title=\"KMeans with sentence embedding representation\")"
   ]
  },
  {
   "cell_type": "code",
   "execution_count": 15,
   "id": "2dcc1e11-a860-448d-92ac-883e4fe5a286",
   "metadata": {},
   "outputs": [
    {
     "data": {
      "image/png": "[encoded data removed]",
      "text/plain": [
       "<Figure size 720x504 with 1 Axes>"
      ]
     },
     "metadata": {
      "needs_background": "light"
     },
     "output_type": "display_data"
    }
   ],
   "source": [
    "plot_pca_clusters(emb_sents, dbscan.labels_, title=\"DBSCAN with sentence embedding representation\")"
   ]
  },
  {
   "cell_type": "markdown",
   "id": "f0bf74a4-86f7-479f-ac54-4fbd0709b126",
   "metadata": {},
   "source": [
    "<br><br><br><br>"
   ]
  },
  {
   "cell_type": "markdown",
   "id": "6f5d135d-cf62-4a8c-990d-631ee1662913",
   "metadata": {},
   "source": [
    "## Exercise 2: Movie recommendations\n",
    "<hr>\n",
    "\n",
    "Let's build simple movie recommendation systems using the [MovieLens dataset](https://www.kaggle.com/prajitdatta/movielens-100k-dataset/data). The original source of the data is [here](https://grouplens.org/datasets/movielens/), and the structure of the data is described in the [README](http://files.grouplens.org/datasets/movielens/ml-latest-small-README.html) that comes with it. The code below reads the data as a CSV assuming that it's under `ml-100k/` directory under your homework folder."
   ]
  },
  {
   "cell_type": "code",
   "execution_count": 16,
   "id": "41780f0a-8c8d-4baf-8059-cf428dad85cf",
   "metadata": {},
   "outputs": [
    {
     "data": {
      "text/html": [
       "<div>\n",
       "<style scoped>\n",
       "    .dataframe tbody tr th:only-of-type {\n",
       "        vertical-align: middle;\n",
       "    }\n",
       "\n",
       "    .dataframe tbody tr th {\n",
       "        vertical-align: top;\n",
       "    }\n",
       "\n",
       "    .dataframe thead th {\n",
       "        text-align: right;\n",
       "    }\n",
       "</style>\n",
       "<table border=\"1\" class=\"dataframe\">\n",
       "  <thead>\n",
       "    <tr style=\"text-align: right;\">\n",
       "      <th></th>\n",
       "      <th>user_id</th>\n",
       "      <th>movie_id</th>\n",
       "      <th>rating</th>\n",
       "      <th>timestamp</th>\n",
       "    </tr>\n",
       "  </thead>\n",
       "  <tbody>\n",
       "    <tr>\n",
       "      <th>0</th>\n",
       "      <td>196</td>\n",
       "      <td>242</td>\n",
       "      <td>3</td>\n",
       "      <td>881250949</td>\n",
       "    </tr>\n",
       "    <tr>\n",
       "      <th>1</th>\n",
       "      <td>186</td>\n",
       "      <td>302</td>\n",
       "      <td>3</td>\n",
       "      <td>891717742</td>\n",
       "    </tr>\n",
       "    <tr>\n",
       "      <th>2</th>\n",
       "      <td>22</td>\n",
       "      <td>377</td>\n",
       "      <td>1</td>\n",
       "      <td>878887116</td>\n",
       "    </tr>\n",
       "    <tr>\n",
       "      <th>3</th>\n",
       "      <td>244</td>\n",
       "      <td>51</td>\n",
       "      <td>2</td>\n",
       "      <td>880606923</td>\n",
       "    </tr>\n",
       "    <tr>\n",
       "      <th>4</th>\n",
       "      <td>166</td>\n",
       "      <td>346</td>\n",
       "      <td>1</td>\n",
       "      <td>886397596</td>\n",
       "    </tr>\n",
       "  </tbody>\n",
       "</table>\n",
       "</div>"
      ],
      "text/plain": [
       "   user_id  movie_id  rating  timestamp\n",
       "0  196      242       3       881250949\n",
       "1  186      302       3       891717742\n",
       "2  22       377       1       878887116\n",
       "3  244      51        2       880606923\n",
       "4  166      346       1       886397596"
      ]
     },
     "execution_count": 16,
     "metadata": {},
     "output_type": "execute_result"
    }
   ],
   "source": [
    "r_cols = [\"user_id\", \"movie_id\", \"rating\", \"timestamp\"]\n",
    "ratings = pd.read_csv(\n",
    "    os.path.join(\"ml-100k\", \"u.data\"),\n",
    "    sep=\"\\t\",\n",
    "    names=r_cols,\n",
    "    encoding=\"latin-1\",\n",
    ")\n",
    "ratings.head()"
   ]
  },
  {
   "cell_type": "code",
   "execution_count": 17,
   "id": "206ca960-e598-48ba-b506-3710e3714047",
   "metadata": {},
   "outputs": [],
   "source": [
    "# We'll be using these keys later in the starter code\n",
    "user_key = \"user_id\"\n",
    "item_key = \"movie_id\""
   ]
  },
  {
   "cell_type": "markdown",
   "id": "1bbd1906-2d3f-4da0-af80-4ff5be61b3d0",
   "metadata": {},
   "source": [
    "### 2.1 Terminology\n",
    "rubric={points:3}\n",
    "\n",
    "Here is some notation we will be using in this homework. \n",
    "\n",
    "**Constants**:\n",
    "\n",
    " - $N$: the number of users, indexed by $n$\n",
    " - $M$: the number of movies, indexed by $m$\n",
    " - $\\mathcal{R}$: the set of indices $(n,m)$ where we have ratings in the utility matrix $Y$\n",
    "    - Thus $|\\mathcal{R}|$ is the total number of ratings\n",
    " \n",
    "**The data**:\n",
    "\n",
    " - $Y$: the utility matrix containing ratings, with a lot of missing entries\n",
    " - `train_mat` and `valid_mat`: Utility matrices for train and validation sets, respectively\n",
    " \n",
    "    \n",
    "**Your tasks:**    \n",
    "\n",
    "1. What are the values of $N$ and $M$ in movie ratings data?  \n",
    "2. What would be the shape of the dense utility matrix $Y$? \n",
    "3. What would be the fraction of non missing ratings in the utility matrix $Y$? "
   ]
  },
  {
   "cell_type": "code",
   "execution_count": 18,
   "id": "40744eb3-0f31-4237-934e-4694fa82192e",
   "metadata": {},
   "outputs": [],
   "source": [
    "N = len(ratings[user_key].unique())\n",
    "M = len(ratings[item_key].unique())"
   ]
  },
  {
   "cell_type": "code",
   "execution_count": 19,
   "id": "81ab816e-afb4-4514-a0ac-19148c365437",
   "metadata": {},
   "outputs": [
    {
     "name": "stdout",
     "output_type": "stream",
     "text": [
      "N: 943, M: 1682\n"
     ]
    }
   ],
   "source": [
    "print(f'N: {N}, M: {M}')"
   ]
  },
  {
   "cell_type": "markdown",
   "id": "014ac136-0c50-4a8c-9435-f7765d281fc1",
   "metadata": {},
   "source": [
    "The shape of $Y$ would be (943, 1682), or ($N$, $M$)"
   ]
  },
  {
   "cell_type": "code",
   "execution_count": 20,
   "id": "0e8533fb-2341-482b-bf3c-3e0ff19456ba",
   "metadata": {},
   "outputs": [
    {
     "name": "stdout",
     "output_type": "stream",
     "text": [
      "The fraction of non missing ratings in Y is: 0.063\n"
     ]
    }
   ],
   "source": [
    "print(f'The fraction of non missing ratings in Y is: {ratings.shape[0] / (N * M):.3f}')"
   ]
  },
  {
   "cell_type": "markdown",
   "id": "5c433a44-37b9-4113-8102-10d918cc84ac",
   "metadata": {},
   "source": [
    "<br><br>"
   ]
  },
  {
   "cell_type": "markdown",
   "id": "c6cc74ee-cc48-4e73-b8ba-0bcdc84d3380",
   "metadata": {},
   "source": [
    "### 2.2 Splitting the data\n",
    "rubric={points:5}\n",
    "\n",
    "**Your tasks:**\n",
    "\n",
    "1. Split the ratings data with `test_size=0.2` and `random_state=42`. "
   ]
  },
  {
   "cell_type": "code",
   "execution_count": 21,
   "id": "f0385095-6983-41d9-9d3f-9d8b44ea3c6b",
   "metadata": {},
   "outputs": [],
   "source": [
    "from sklearn.model_selection import train_test_split\n",
    "X_train, X_valid = train_test_split(ratings.copy(), test_size=0.2, random_state=42)"
   ]
  },
  {
   "cell_type": "markdown",
   "id": "ce1526cf-a7e5-425e-b8e5-dd8cadb53a50",
   "metadata": {},
   "source": [
    "<br><br>"
   ]
  },
  {
   "cell_type": "markdown",
   "id": "3eb483ab-ae9a-4d3d-a2d5-be404c422c14",
   "metadata": {},
   "source": [
    "### 2.3 Utility matrix \n",
    "rubric={points:10}\n",
    "\n",
    "**Your tasks**\n",
    "1. Create utility matrices for train and validation sets. \n",
    "2. Briefly explain the difference between the train and validation utility matrices. \n",
    "\n",
    "> You may use the code from lecture notes with appropriate attributions.  \n",
    "\n",
    "> You won't do it in real life but since our dataset is not that big, create a dense utility matrix in this assignment. You are welcome to try sparse matrix but then you may have to change some started code provided in the later exercises.  "
   ]
  },
  {
   "cell_type": "code",
   "execution_count": 22,
   "id": "b9b8d514-615a-4166-b597-eee2e53dbfd8",
   "metadata": {},
   "outputs": [],
   "source": [
    "# From Lecture 15\n",
    "user_mapper = dict(zip(np.unique(ratings[user_key]), list(range(N))))\n",
    "item_mapper = dict(zip(np.unique(ratings[item_key]), list(range(M))))\n",
    "user_inverse_mapper = dict(zip(list(range(N)), np.unique(ratings[user_key])))\n",
    "item_inverse_mapper = dict(zip(list(range(M)), np.unique(ratings[item_key])))"
   ]
  },
  {
   "cell_type": "code",
   "execution_count": 23,
   "id": "84290e98-748c-413d-b6ac-cb60f44d9884",
   "metadata": {},
   "outputs": [],
   "source": [
    "# From Lecture 15\n",
    "def create_Y_from_ratings(data, N, M):\n",
    "    Y = np.zeros((N, M))\n",
    "    Y.fill(np.nan)\n",
    "    for index, val in data.iterrows():\n",
    "        n = user_mapper[val[user_key]]\n",
    "        m = item_mapper[val[item_key]]\n",
    "        Y[n, m] = val[\"rating\"]\n",
    "\n",
    "    return Y"
   ]
  },
  {
   "cell_type": "code",
   "execution_count": 24,
   "id": "192d8a08-c194-45c2-83ca-63156311401e",
   "metadata": {},
   "outputs": [],
   "source": [
    "train_mat = create_Y_from_ratings(X_train, N, M)\n",
    "valid_mat = create_Y_from_ratings(X_valid, N, M)"
   ]
  },
  {
   "cell_type": "code",
   "execution_count": 25,
   "id": "c3a2d97d-2423-40f2-9dab-352fc589ef02",
   "metadata": {},
   "outputs": [
    {
     "data": {
      "text/plain": [
       "(943, 1682)"
      ]
     },
     "execution_count": 25,
     "metadata": {},
     "output_type": "execute_result"
    }
   ],
   "source": [
    "train_mat.shape"
   ]
  },
  {
   "cell_type": "markdown",
   "id": "d5d1e07b-b1ea-4487-bd23-dd6012f67f05",
   "metadata": {},
   "source": [
    "The train utility matrix has only the ratings from the training set, and the validation utility matrix has only the ratings from the validation set.\n",
    "Once, trained, the model's predictions can be compared against the validation set."
   ]
  },
  {
   "cell_type": "markdown",
   "id": "bce90c62-f51b-4c35-a136-52176cbf8ea3",
   "metadata": {},
   "source": [
    "<br><br>"
   ]
  },
  {
   "cell_type": "markdown",
   "id": "b0597e68-8a04-4779-b3d2-f23a829879b3",
   "metadata": {},
   "source": [
    "### 2.4 Evaluation and baseline\n",
    "rubric={points:4}\n",
    "\n",
    "To compare different models you build in this homework, let's write a couple of functions for evaluation. \n",
    "- The `error` function returns RMSE.\n",
    "- The `evaluate` function prints the train and validation RMSEs. \n",
    "\n",
    "**Your task:**\n",
    "\n",
    "1. Briefly explain what exactly we are comparing to evaluate recommender systems. \n",
    "2. Implement the global average baseline, where you predict everything as the global average rating. What's the RMSE of the global average baseline?"
   ]
  },
  {
   "cell_type": "code",
   "execution_count": 26,
   "id": "15c3c76a-5d5b-4773-a48c-0f26d5ec5ec8",
   "metadata": {},
   "outputs": [],
   "source": [
    "def error(Y1, Y2):\n",
    "    \"\"\"\n",
    "    Returns the root mean squared error (RMSE).\n",
    "    \"\"\"\n",
    "    return np.sqrt(np.nanmean((Y1 - Y2) ** 2))\n",
    "\n",
    "\n",
    "def evaluate(pred_Y, train_mat, valid_mat, model_name=\"Global average\"):\n",
    "    print(\"%s train RMSE: %0.2f\" % (model_name, error(pred_Y, train_mat)))\n",
    "    print(\"%s valid RMSE: %0.2f\" % (model_name, error(pred_Y, valid_mat)))"
   ]
  },
  {
   "cell_type": "markdown",
   "id": "510605db-f3f6-4ac5-ba9e-067c7801d75e",
   "metadata": {},
   "source": [
    "We are comparing how the predicted ratings differ from the ratings in each utility matrix. And we are doing it by calculating the RMSEs between the non missing ratings of the train and validation matrices, and the corresponding ratings in the predicted matrix."
   ]
  },
  {
   "cell_type": "code",
   "execution_count": 27,
   "id": "760984db-e2d5-428e-919a-0a63c582a9de",
   "metadata": {},
   "outputs": [
    {
     "name": "stdout",
     "output_type": "stream",
     "text": [
      "Global average train RMSE: 1.13\n",
      "Global average valid RMSE: 1.12\n"
     ]
    }
   ],
   "source": [
    "mean = np.nanmean(train_mat)\n",
    "pred_Y_base = np.full(train_mat.shape, mean)\n",
    "evaluate(pred_Y_base, train_mat, valid_mat)"
   ]
  },
  {
   "cell_type": "markdown",
   "id": "161a6ab6-62ef-4fdd-ba0d-5e7e920154a3",
   "metadata": {},
   "source": [
    "<br><br>"
   ]
  },
  {
   "cell_type": "markdown",
   "id": "2d9a02d5-bf63-428a-8bac-9fa6f2f38681",
   "metadata": {},
   "source": [
    "### (Optional) 2.5 $k$-nearest neighbours imputation\n",
    "rubric={points:1}\n",
    "\n",
    "**Your tasks:**\n",
    "\n",
    "Try [KNNImputer](https://scikit-learn.org/stable/modules/generated/sklearn.impute.KNNImputer.html) to fill in the missing entries. Discuss your observations. "
   ]
  },
  {
   "cell_type": "code",
   "execution_count": 28,
   "id": "225fe7d4-524e-49c0-ba3d-2f0fef7539a8",
   "metadata": {},
   "outputs": [],
   "source": [
    "from sklearn.impute import KNNImputer\n",
    "\n",
    "imputer = KNNImputer(n_neighbors=10)\n",
    "train_mat_imp = imputer.fit_transform(train_mat)"
   ]
  },
  {
   "cell_type": "code",
   "execution_count": 29,
   "id": "3aeec6c8-d42e-46de-87da-b29fbef312cd",
   "metadata": {},
   "outputs": [
    {
     "data": {
      "text/plain": [
       "0"
      ]
     },
     "execution_count": 29,
     "metadata": {},
     "output_type": "execute_result"
    }
   ],
   "source": [
    "np.isnan(train_mat_imp).sum()"
   ]
  },
  {
   "cell_type": "markdown",
   "id": "25b10d5f-dd67-426d-8b1d-b126643a05e0",
   "metadata": {},
   "source": [
    "The matrix is entirely filled with no `nan`. The imputed matrix is dense."
   ]
  },
  {
   "cell_type": "markdown",
   "id": "ff65bf17-79e9-4b85-9739-bfc9faf540fa",
   "metadata": {},
   "source": [
    "<br><br>"
   ]
  },
  {
   "cell_type": "markdown",
   "id": "dbcf229e-5817-4d76-a5e9-e492bbb9efd3",
   "metadata": {},
   "source": [
    "### 2.6 Use collaborative filtering with the `surprise` package\n",
    "rubric={points:6}\n",
    "\n",
    "Use the [`surprise`](https://surprise.readthedocs.io/en/stable/) package which has implementation of SVD algorithm for collaborative filtering. You can install it as follows in your conda environment. \n",
    "\n",
    "`conda install -n cpsc330 -c conda-forge scikit-surprise`\n",
    "\n",
    "**Your tasks:**\n",
    "\n",
    "1. Carry out cross-validation using SVD algorithm in the package, similar to how we did it in the lecture on Jester dataset. Report mean RMSE and compare it with global baseline. "
   ]
  },
  {
   "cell_type": "code",
   "execution_count": 30,
   "id": "2108964b-5a0b-4c79-b06c-5cccc687bfb5",
   "metadata": {},
   "outputs": [],
   "source": [
    "import surprise\n",
    "from surprise import SVD, Dataset, Reader, accuracy"
   ]
  },
  {
   "cell_type": "code",
   "execution_count": 31,
   "id": "0c4b8203-eb8a-4429-9f3e-e35ae19987d8",
   "metadata": {},
   "outputs": [
    {
     "data": {
      "text/html": [
       "<div>\n",
       "<style scoped>\n",
       "    .dataframe tbody tr th:only-of-type {\n",
       "        vertical-align: middle;\n",
       "    }\n",
       "\n",
       "    .dataframe tbody tr th {\n",
       "        vertical-align: top;\n",
       "    }\n",
       "\n",
       "    .dataframe thead th {\n",
       "        text-align: right;\n",
       "    }\n",
       "</style>\n",
       "<table border=\"1\" class=\"dataframe\">\n",
       "  <thead>\n",
       "    <tr style=\"text-align: right;\">\n",
       "      <th></th>\n",
       "      <th>user_id</th>\n",
       "      <th>movie_id</th>\n",
       "      <th>rating</th>\n",
       "      <th>timestamp</th>\n",
       "    </tr>\n",
       "  </thead>\n",
       "  <tbody>\n",
       "    <tr>\n",
       "      <th>75220</th>\n",
       "      <td>807</td>\n",
       "      <td>1411</td>\n",
       "      <td>1</td>\n",
       "      <td>893082619</td>\n",
       "    </tr>\n",
       "    <tr>\n",
       "      <th>48955</th>\n",
       "      <td>474</td>\n",
       "      <td>659</td>\n",
       "      <td>5</td>\n",
       "      <td>887925187</td>\n",
       "    </tr>\n",
       "    <tr>\n",
       "      <th>44966</th>\n",
       "      <td>463</td>\n",
       "      <td>268</td>\n",
       "      <td>4</td>\n",
       "      <td>877384940</td>\n",
       "    </tr>\n",
       "    <tr>\n",
       "      <th>13568</th>\n",
       "      <td>139</td>\n",
       "      <td>286</td>\n",
       "      <td>4</td>\n",
       "      <td>879537844</td>\n",
       "    </tr>\n",
       "    <tr>\n",
       "      <th>92727</th>\n",
       "      <td>621</td>\n",
       "      <td>751</td>\n",
       "      <td>4</td>\n",
       "      <td>883799651</td>\n",
       "    </tr>\n",
       "    <tr>\n",
       "      <th>...</th>\n",
       "      <td>...</td>\n",
       "      <td>...</td>\n",
       "      <td>...</td>\n",
       "      <td>...</td>\n",
       "    </tr>\n",
       "    <tr>\n",
       "      <th>6265</th>\n",
       "      <td>216</td>\n",
       "      <td>231</td>\n",
       "      <td>2</td>\n",
       "      <td>880245109</td>\n",
       "    </tr>\n",
       "    <tr>\n",
       "      <th>54886</th>\n",
       "      <td>343</td>\n",
       "      <td>276</td>\n",
       "      <td>5</td>\n",
       "      <td>876403078</td>\n",
       "    </tr>\n",
       "    <tr>\n",
       "      <th>76820</th>\n",
       "      <td>437</td>\n",
       "      <td>475</td>\n",
       "      <td>3</td>\n",
       "      <td>880140288</td>\n",
       "    </tr>\n",
       "    <tr>\n",
       "      <th>860</th>\n",
       "      <td>284</td>\n",
       "      <td>322</td>\n",
       "      <td>3</td>\n",
       "      <td>885329671</td>\n",
       "    </tr>\n",
       "    <tr>\n",
       "      <th>15795</th>\n",
       "      <td>222</td>\n",
       "      <td>200</td>\n",
       "      <td>3</td>\n",
       "      <td>878181647</td>\n",
       "    </tr>\n",
       "  </tbody>\n",
       "</table>\n",
       "<p>80000 rows × 4 columns</p>\n",
       "</div>"
      ],
      "text/plain": [
       "       user_id  movie_id  rating  timestamp\n",
       "75220  807      1411      1       893082619\n",
       "48955  474      659       5       887925187\n",
       "44966  463      268       4       877384940\n",
       "13568  139      286       4       879537844\n",
       "92727  621      751       4       883799651\n",
       "...    ...      ...      ..             ...\n",
       "6265   216      231       2       880245109\n",
       "54886  343      276       5       876403078\n",
       "76820  437      475       3       880140288\n",
       "860    284      322       3       885329671\n",
       "15795  222      200       3       878181647\n",
       "\n",
       "[80000 rows x 4 columns]"
      ]
     },
     "execution_count": 31,
     "metadata": {},
     "output_type": "execute_result"
    }
   ],
   "source": [
    "X_train"
   ]
  },
  {
   "cell_type": "code",
   "execution_count": 32,
   "id": "aeb22829-48b1-4909-a78a-d9346492e024",
   "metadata": {},
   "outputs": [],
   "source": [
    "reader = Reader()\n",
    "data = Dataset.load_from_df(ratings[['user_id', 'movie_id', 'rating']], reader)\n",
    "\n",
    "# I'm being sloppy here. Probably there is a way to create validset from our already split data.\n",
    "trainset, validset = surprise.model_selection.train_test_split(\n",
    "    data, test_size=0.2, random_state=42\n",
    ")  # Split the data"
   ]
  },
  {
   "cell_type": "code",
   "execution_count": 33,
   "id": "6dd1bc2a-3014-4a49-aca6-f6f9803ff774",
   "metadata": {},
   "outputs": [],
   "source": [
    "k = 10\n",
    "algo = SVD(n_factors=k, random_state=42)\n",
    "# algo.fit(trainset)\n",
    "# svd_preds = algo.test(validset)\n",
    "# accuracy.rmse(svd_preds, verbose=True)"
   ]
  },
  {
   "cell_type": "code",
   "execution_count": 34,
   "id": "6b011634-51a2-4aa9-af7e-1ec84eab8d39",
   "metadata": {},
   "outputs": [
    {
     "name": "stdout",
     "output_type": "stream",
     "text": [
      "Evaluating RMSE, MAE of algorithm SVD on 5 split(s).\n",
      "\n",
      "                  Fold 1  Fold 2  Fold 3  Fold 4  Fold 5  Mean    Std     \n",
      "RMSE (testset)    0.9390  0.9357  0.9338  0.9351  0.9329  0.9353  0.0021  \n",
      "MAE (testset)     0.7415  0.7406  0.7366  0.7375  0.7366  0.7386  0.0021  \n",
      "Fit time          1.45    1.50    1.46    1.48    1.49    1.48    0.02    \n",
      "Test time         0.12    0.11    0.21    0.11    0.11    0.13    0.04    \n"
     ]
    }
   ],
   "source": [
    "from surprise.model_selection import cross_validate\n",
    "\n",
    "results = cross_validate(algo, data, measures=[\"RMSE\", \"MAE\"], cv=5, verbose=True)"
   ]
  },
  {
   "cell_type": "markdown",
   "id": "3bd142d9-a152-4cd3-931f-2121f67a2f18",
   "metadata": {},
   "source": [
    "**MEAN RMSE:** 0.94 vs. 1.12. Lower than the baseline RMSE."
   ]
  },
  {
   "cell_type": "markdown",
   "id": "a044157f-1236-4cb9-8c76-82647f23cc99",
   "metadata": {},
   "source": [
    "<br><br><br><br>"
   ]
  },
  {
   "cell_type": "markdown",
   "id": "e3d184a9-7fad-4e34-8fa7-b10443d83911",
   "metadata": {},
   "source": [
    "## Exercise 3: Short answer questions\n",
    "<hr>\n",
    "\n",
    "rubric={points:5}\n",
    "\n",
    "Answer the following short-answer questions: \n",
    "\n",
    "1. What's the main difference between unsupervised and supervised learning? In supervised learning, target labels are provided, and used to fit models.\n",
    "\n",
    "Unsupervised learning is performed without provided target labels. Unsupervised leraning is performed with unlabeled data.\n",
    "\n",
    "2. When choosing $k$ in $k$-means, why not just choose the $k$ that leads to the smallest inertia (sum of squared distances within clusters)?\n",
    "\n",
    "Increasing $k$ reduces inertia. The smallest inertia is achieved with $k$ equal to the number of examples, assigning all examples to their own clusters, and the result is not useful.\n",
    "\n",
    "3. You decide to use clustering for _outlier detection_; that is, to detect instances that are very atypical compared to all the rest. How might you do this with $k$-means?\n",
    "\n",
    "Once $k$-means is fitted, points (examples) can be sorted in descending order of distance to cluster centers. Points furthest from their assigned cluster's centers may then be considered outliers.\n",
    "\n",
    "4. You decide to use clustering for _outlier detection_; that is, to detect instances that are very atypical compared to all the rest. How might you do this with DBSCAN?\n",
    "\n",
    "I would tweak the hyperparameters until I see only few noise points (\"few\" being subjective), and consider those points outliers. `min_samples` would have to be greater than 1, and can be increased to increase noise points, and `ebs` can be increased to reduce noise points. I might have to check if the resulting clustering makes sense.\n",
    "\n",
    "5. How might you apply clustering to recommendation systems? \n",
    "\n",
    "Clustering can be used to find similar users and items. Then an analogy-based algorithm like k-NN can be used to recommend items highly rated by users within a user cluster to other users in the same cluster. Recommendation systems can also recommend to users items similar to ones they rate highly. Thereby clustering could increase the diversity of recommendations."
   ]
  },
  {
   "cell_type": "markdown",
   "id": "87ea9c37-34c9-4b3e-a2df-e00cedd3e8ae",
   "metadata": {},
   "source": [
    "<br><br><br><br>"
   ]
  },
  {
   "cell_type": "markdown",
   "id": "ab723dc5-4ea6-4c44-ace9-bf345bf8c120",
   "metadata": {},
   "source": [
    "## Submission instructions \n",
    "\n",
    "**PLEASE READ:** When you are ready to submit your assignment do the following:\n",
    "\n",
    "1. Run all cells in your notebook to make sure there are no errors by doing `Kernel -> Restart Kernel and Clear All Outputs` and then `Run -> Run All Cells`. \n",
    "2. Notebooks with cell execution numbers out of order or not starting from “1” will have marks deducted. Notebooks without the output displayed may not be graded at all (because we need to see the output in order to grade your work).\n",
    "3. Upload the assignment using Gradescope's drag and drop tool. Check out this [Gradescope Student Guide](https://lthub.ubc.ca/guides/gradescope-student-guide/) if you need help with Gradescope submission. "
   ]
  }
 ],
 "metadata": {
  "kernelspec": {
   "display_name": "Python [conda env:cpsc330]",
   "language": "python",
   "name": "conda-env-cpsc330-py"
  },
  "language_info": {
   "codemirror_mode": {
    "name": "ipython",
    "version": 3
   },
   "file_extension": ".py",
   "mimetype": "text/x-python",
   "name": "python",
   "nbconvert_exporter": "python",
   "pygments_lexer": "ipython3",
   "version": "3.10.4"
  }
 },
 "nbformat": 4,
 "nbformat_minor": 5
}
